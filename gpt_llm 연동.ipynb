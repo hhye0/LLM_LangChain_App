{
 "cells": [
  {
   "cell_type": "code",
   "execution_count": null,
   "id": "5b6b7696",
   "metadata": {},
   "outputs": [
    {
     "name": "stdout",
     "output_type": "stream",
     "text": [
      "Hello LangChain\n"
     ]
    }
   ],
   "source": [
    "print('Hello ChatGPT')"
   ]
  },
  {
   "cell_type": "code",
   "execution_count": 2,
   "id": "32dcb62e",
   "metadata": {},
   "outputs": [],
   "source": [
    "import os\n",
    "from dotenv import load_dotenv\n",
    "from langchain_core.prompts import ChatPromptTemplate\n",
    "from langchain_openai import ChatOpenAI \n",
    "\n",
    "load_dotenv()\n",
    "OPENAI_API_KEY = os.getenv(\"OPENAI_API_KEY\")"
   ]
  },
  {
   "cell_type": "code",
   "execution_count": null,
   "id": "473dc1c9",
   "metadata": {},
   "outputs": [
    {
     "name": "stdout",
     "output_type": "stream",
     "text": [
      "input_variables=['input'] input_types={} partial_variables={} messages=[SystemMessagePromptTemplate(prompt=PromptTemplate(input_variables=[], input_types={}, partial_variables={}, template='당신은 개발자입니다.'), additional_kwargs={}), HumanMessagePromptTemplate(prompt=PromptTemplate(input_variables=['input'], input_types={}, partial_variables={}, template='{input}'), additional_kwargs={})]\n"
     ]
    }
   ],
   "source": [
    "# prompt\n",
    "prompt = ChatPromptTemplate.from_messages(\n",
    "    [ (\"system\", \"당신은 개발자입니다.\") , \n",
    "     (\"human\", \"{input}\") ]\n",
    ")\n",
    "print(prompt)\n",
    "\n",
    "prompt_text = prompt.format(input=\"LangServe 무엇인가요? 자세하게 설명해주세요\")"
   ]
  },
  {
   "cell_type": "code",
   "execution_count": null,
   "id": "94f6e9df",
   "metadata": {},
   "outputs": [
    {
     "name": "stdout",
     "output_type": "stream",
     "text": [
      "client=<openai.resources.chat.completions.completions.Completions object at 0x000002265B9B3BF0> async_client=<openai.resources.chat.completions.completions.AsyncCompletions object at 0x000002265C108050> root_client=<openai.OpenAI object at 0x000002265B26EAB0> root_async_client=<openai.AsyncOpenAI object at 0x000002265B9B18B0> model_name='meta-llama/llama-4-scout-17b-16e-instruct' temperature=0.7 model_kwargs={} openai_api_key=SecretStr('**********') openai_api_base='https://api.groq.com/openai/v1'\n"
     ]
    }
   ],
   "source": [
    "# Chatgpt API를 사용하는 ChatOpenAI 인스턴스 생성\n",
    "llm = ChatOpenAI(\n",
    "    # model=\"gpt-3.5-turbo-0125\",\n",
    "    model=\"gpt-4o-mini\",\n",
    "    temperature=0.7\n",
    ")\n",
    "print(llm)"
   ]
  },
  {
   "cell_type": "code",
   "execution_count": 9,
   "id": "a90e8848",
   "metadata": {},
   "outputs": [
    {
     "name": "stdout",
     "output_type": "stream",
     "text": [
      "응답: JavaScript는 웹 개발에서 널리 사용되는 프로그래밍 언어입니다. 웹 페이지에 동적인 효과를 추가하고, 사용자 상호작용에 반응하며, 서버와의 통신을 가능하게 합니다. JavaScript는 클라이언트 측 스크립팅 언어로서, 웹 브라우저에서 실행되며, 웹 페이지의 콘텐츠를 동적으로 변경할 수 있습니다.\n",
      "\n",
      "### JavaScript의 주요 기능\n",
      "\n",
      "1. **동적 콘텐츠 변경**: JavaScript는 HTML 및 CSS와 함께 사용하여 웹 페이지의 콘텐츠를 동적으로 변경할 수 있습니다. 예를 들어, 버튼 클릭 시 특정 텍스트나 이미지를 표시하거나 숨길 수 있습니다.\n",
      "\n",
      "2. **사용자 상호작용**: JavaScript는 사용자의 상호작용에 반응하여 특정 동작을 수행할 수 있습니다. 예를 들어, 마우스 클릭, 키보드 입력, 스크롤 이벤트 등에 반응하여 함수를 실행할 수 있습니다.\n",
      "\n",
      "3. **웹 페이지 애니메이션**: JavaScript와 CSS를 함께 사용하여 웹 페이지에 애니메이션을 추가할 수 있습니다. 복잡한 애니메이션도 가능하며, 사용자에게 더 풍부한 경험을 제공할 수 있습니다.\n",
      "\n",
      "4. **AJAX 요청**: JavaScript를 사용하여 서버에 AJAX(Asynchronous JavaScript and XML) 요청을 보낼 수 있습니다. 이를 통해 서버와의 통신을 비동기적으로 수행하고, 웹 페이지의 일부를 동적으로 업데이트할 수 있습니다.\n",
      "\n",
      "5. **웹 스토리지**: JavaScript를 사용하여 클라이언트 측에 데이터를 저장할 수 있습니다. 로컬 스토리지(localStorage)와 세션 스토리지(sessionStorage)가 있으며, 이를 통해 사용자의 선호도나 세션 정보를 저장할 수 있습니다.\n",
      "\n",
      "### JavaScript의 사용 분야\n",
      "\n",
      "- **프론트엔드 개발**: 웹 페이지의 클라이언트 측 로직을 구현하는 데 사용됩니다. React, Angular, Vue.js와 같은 자바스크립트 프레임워크와 라이브러리가 널리 사용됩니다.\n",
      "\n",
      "- **백엔드 개발**: Node.js를 통해 서버 측 개발에도 사용됩니다. Node.js는 JavaScript를 서버 측에서 실행할 수 있게 해주며, 서버 개발에 필요한 모듈과 프레임워크를 제공합니다.\n",
      "\n",
      "- **모바일 앱 개발**: React Native, Angular Mobile과 같은 프레임워크를 통해 모바일 앱 개발에도 사용됩니다.\n",
      "\n",
      "- **게임 개발**: Phaser와 같은 라이브러리를 통해 HTML5 기반의 웹 게임을 개발할 수 있습니다.\n",
      "\n",
      "### JavaScript의 장단점\n",
      "\n",
      "**장점**:\n",
      "\n",
      "- 클라이언트 측에서 실행되어 서버의 부하를 줄일 수 있습니다.\n",
      "- 동적인 웹 페이지를 쉽게 구현할 수 있습니다.\n",
      "- 다양한 라이브러리와 프레임워크가 존재하여 개발을 가속화할 수 있습니다.\n",
      "\n",
      "**단점**:\n",
      "\n",
      "- 보안상의 취약점이 있을 수 있습니다.\n",
      "- 브라우저 간의 호환성 문제가 발생할 수 있습니다.\n",
      "- 복잡한 대규모 애플리케이션 개발에는 적합하지 않을 수 있습니다.\n",
      "\n",
      "JavaScript는 웹 개발의 핵심 기술 중 하나이며, 현대 웹 애플리케이션 개발에서 없어서는 안 될 중요한 역할을 합니다.\n"
     ]
    }
   ],
   "source": [
    "try:\n",
    "    response = llm.invoke(prompt_text)\n",
    "    print(\"응답:\", response.content)\n",
    "except Exception as e:\n",
    "    print(f\"오류 발생: {e}\")"
   ]
  }
 ],
 "metadata": {
  "kernelspec": {
   "display_name": "langchain-basic-kGdHTiMZ-py3.12",
   "language": "python",
   "name": "python3"
  },
  "language_info": {
   "codemirror_mode": {
    "name": "ipython",
    "version": 3
   },
   "file_extension": ".py",
   "mimetype": "text/x-python",
   "name": "python",
   "nbconvert_exporter": "python",
   "pygments_lexer": "ipython3",
   "version": "3.12.7"
  }
 },
 "nbformat": 4,
 "nbformat_minor": 5
}
