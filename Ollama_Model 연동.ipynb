{
 "cells": [
  {
   "cell_type": "code",
   "execution_count": 1,
   "id": "b24ed5bf",
   "metadata": {},
   "outputs": [
    {
     "name": "stdout",
     "output_type": "stream",
     "text": [
      "Ollama is running\n"
     ]
    }
   ],
   "source": [
    "import requests\n",
    "\n",
    "response = requests.get(\"http://127.0.0.1:11434\")\n",
    "print(response.text)"
   ]
  },
  {
   "cell_type": "code",
   "execution_count": null,
   "id": "2b52b1cc",
   "metadata": {},
   "outputs": [
    {
     "name": "stdout",
     "output_type": "stream",
     "text": [
      "<class 'langchain_core.messages.ai.AIMessage'>\n",
      "content='<think>\\nAlright, the user asked, \"What is LangChain?\" \\n\\nI remember I mentioned it in my previous response as a tool for language models in Python. So first, I should acknowledge their question.\\n\\nI\\'ll define what LangChain is to provide a clear explanation. It\\'s a package that simplifies working with LLMs by providing tools and interfaces.\\n\\nNext, I need to outline its key features. Maybe mention the different components like transformers, chatbots, data collators, proofreading tools, prompt formatting, etc. Each feature helps in various aspects of using LLMs effectively.\\n\\nThen, I should give some use cases or example scenarios where LangChain would be useful. This will show how it can make tasks easier for developers and non-technical users.\\n\\nI\\'ll also provide installation steps since the user might need to set it up. They\\'ll have to install langchain and then a model like Hugging Face or PaLM.\\n\\nFinally, I should offer resources for further learning, maybe pointing them to the LangChain documentation or official website.\\n\\nI think that covers everything in a structured way, making it easy for the user to understand and use LangChain effectively.\\n</think>\\n\\nLangChain is an open-source Python library designed to simplify the interaction between custom language models and tasks involving NLP (natural language processing). It provides tools, classes, and interfaces to make working with LLMs more accessible and efficient.\\n\\nHere are some key features of LangChain:\\n\\n1. **Component Integration**: LangChain integrates multiple components needed for tasks like text generation, classification, translation, and more.\\n   - Transformer models\\n   - Chatbots\\n   - Data collators\\n   - Proofreading tools\\n   - Prompt formatting\\n   - Error correction\\n   - Storytelling\\n\\n2. **User-Friendly APIs**: LangChain offers user-friendly APIs for common tasks, such as:\\n   - Text generation\\n   - Question-answering\\n   - Summarization\\n   - Code editing\\n   - Image processing\\n   - And more\\n\\n3. **Extensibility**: The library is extensible, allowing developers to add their own models or custom components.\\n\\n4. **Common Use Cases**:\\n   - Generating text responses based on prompts.\\n   - Classifying documents into categories using pre-trained models.\\n   - Summarizing long passages of text.\\n   - Addressing programming challenges.\\n   - Writing engaging stories.\\n   - Helping users create polished, formatted paragraphs from raw text.\\n\\n5. **Installation**: LangChain is available as a Python package and can be installed using pip:\\n   ```bash\\n   pip install langchain\\n   ```\\n\\nFor more information about LangChain or to contribute ideas for new features, you can visit its official documentation [link](https://langchain.ai) or explore the repository at [GitHub](https://github.com/LangChain-labs/).' additional_kwargs={} response_metadata={'model': 'deepseek-r1:1.5b', 'created_at': '2025-06-17T01:06:00.155114Z', 'done': True, 'done_reason': 'stop', 'total_duration': 76939223500, 'load_duration': 3421163800, 'prompt_eval_count': 24, 'prompt_eval_duration': 589094000, 'eval_count': 583, 'eval_duration': 72924343200, 'model_name': 'deepseek-r1:1.5b'} id='run--5fdc3381-b932-4705-8249-b30afb38eaa1-0' usage_metadata={'input_tokens': 24, 'output_tokens': 583, 'total_tokens': 607}\n"
     ]
    }
   ],
   "source": [
    "from langchain_ollama import ChatOllama\n",
    "#from langchain_core.prompts import PromptTemplate\n",
    "from langchain_core.prompts import ChatPromptTemplate\n",
    "\n",
    "# Ollama를 사용하여 로컬에서 실행 중인 deepseek-r1:1.5b 모델 로드\n",
    "llm = ChatOllama(model=\"deepseek-r1:1.5b\")\n",
    "\n",
    "# 프롬프트 템플릿 정의\n",
    "# prompt_template = PromptTemplate.from_template(\"Q: {question}\\nA:\")\n",
    "\n",
    "# 더 정확한 응답을 위한 개선된 프롬프트\n",
    "prompt_template = ChatPromptTemplate.from_messages([\n",
    "    (\"system\", \"You are an AI assistant that provides accurate and detailed answers.\"),\n",
    "    (\"human\", \"Q: {question}\\nA:\")\n",
    "])\n",
    "\n",
    "\n",
    "# 최신 LangChain 방식: RunnableSequence 활용\n",
    "chain = prompt_template | llm\n",
    "\n",
    "# 실행 예시\n",
    "question = \"What is LangChain?\"\n",
    "response = chain.invoke({\"question\": question})\n",
    "\n",
    "print(type(response))\n",
    "print(response)"
   ]
  },
  {
   "cell_type": "code",
   "execution_count": 4,
   "id": "4a1fcb61",
   "metadata": {},
   "outputs": [
    {
     "name": "stdout",
     "output_type": "stream",
     "text": [
      "<think>\n",
      "Okay, the user is asking, \"What is Python?\" and the assistant needs to provide an answer. Let me start by recalling what I know about Python.\n",
      "\n",
      "Python is a high-level, interpreted programming language. It was created by Guido van Rossum in 1991. It's known for being easy to read and write, which makes it popular among beginners. The syntax is simple, so people can focus on solving problems rather than getting bogged down by complex syntax.\n",
      "\n",
      "I should mention the key features: it's object-oriented, uses a concise syntax, and has a vast standard library. Also, it's cross-platform, meaning it works on different operating systems. It's used in web development, data analysis, machine learning, and more. Maybe include some examples like using it for scripting or automation.\n",
      "\n",
      "Wait, the user might want to know why it's popular. So, points like simplicity, readability, extensive libraries, and community support. Also, the fact that it's open-source and has a large community.\n",
      "\n",
      "I should structure the answer to first define it, then explain its features, use cases, and maybe some benefits. Avoid technical jargon but keep it accurate. Make sure to highlight why it's useful and where it's applied.\n",
      "\n",
      "Check if there's anything else important. Maybe mention that it's dynamically typed, which allows for more flexibility. Also, it's a general-purpose language, not limited to a specific domain. Oh, and it's used in various fields like AI, data science, and game development.\n",
      "\n",
      "Need to make sure the answer is clear and not too lengthy. Keep it concise but comprehensive. Avoid listing too many points. Maybe use bullet points or sections for clarity. But since the user just wants the answer, perhaps a paragraph form.\n",
      "\n",
      "Also, confirm that Python is free and open-source, which is a key point. It's not tied to any specific platform, so it's platform-independent.\n",
      "\n",
      "Okay, putting it all together now.\n",
      "</think>\n",
      "\n",
      "파이썬은 고급 수준의 해석 언어로, Guido van Rossum이 1991년에 개발한 프로그래밍 언어입니다. 이 언어는 간결하고 읽기 쉬운 문법을 특징으로 하며, 프로그래머들이 문제를 해결할 때 더 많은 집중을 할 수 있도록 설계되었습니다. 파이썬은 오브젝트-오riented 언어이며, 다양한 기능을 갖춘 표준 라이브러리와 넓은 커뮤니티를 통해 사용자에게 편리한 개발환경을 제공합니다.  \n",
      "\n",
      "파이썬은 웹 개발, 데이터 분석, 머신러닝, 게임 개발, 시스템 관리 등 다양한 분야에서 널리 사용됩니다. 이 언어는 빠른 실행 속도와 높은 확장성, 그리고 다양한 패키지(예: NumPy, Pandas, Django)의 존재로 프로젝트 개발에 유리합니다. 또한, 동적으로 타입을 지원하여 코드의 유연성과 편의성을 높이고, 오픈소스로 freely 사용 가능하며, 커뮤니티의 빠른 지원을 통해 주요 기술 분야에서 주도적인 역할을 수행하고 있습니다.\n"
     ]
    }
   ],
   "source": [
    "from langchain_ollama import ChatOllama\n",
    "from langchain_core.prompts import ChatPromptTemplate\n",
    "\n",
    "# Ollama를 사용하여 로컬에서 실행 중인 qwen2.5:1.5b 모델 로드\n",
    "# llm = ChatOllama(model=\"qwen2.5:1.5b\")\n",
    "#qwen 3:1.7b\n",
    "llm = ChatOllama(model=\"qwen3:1.7b\")\n",
    "\n",
    "# 더 정확한 응답을 위한 개선된 프롬프트\n",
    "prompt_template = ChatPromptTemplate.from_messages([\n",
    "    (\"system\", \"You are an AI assistant that provides accurate and detailed answers.\"),\n",
    "    (\"human\", \"Q: {question}\\nA:\")\n",
    "])\n",
    "\n",
    "# 최신 LangChain 방식: RunnableSequence 활용\n",
    "chain = prompt_template | llm\n",
    "\n",
    "# 실행 예시\n",
    "question = \"파이썬은 무엇인가요?\"\n",
    "response = chain.invoke({\"question\": question})\n",
    "\n",
    "print(response.content)"
   ]
  },
  {
   "cell_type": "code",
   "execution_count": 5,
   "id": "dc25150c",
   "metadata": {},
   "outputs": [
    {
     "name": "stdout",
     "output_type": "stream",
     "text": [
      "<think>\n",
      "To determine which number is larger between 9.9 and 9.11, I'll start by comparing their whole number parts.\n",
      "\n",
      "Both numbers have the same whole number part, which is 9.\n",
      "\n",
      "Next, I'll compare the decimal parts of each number. For 9.9, the decimal part is 0.9, while for 9.11, it's 0.11.\n",
      "\n",
      "Since 0.9 is greater than 0.11, this indicates that 9.9 has a larger decimal portion compared to 9.11.\n",
      "\n",
      "Therefore, combining these observations, 9.9 is the larger number.\n",
      "</think>\n",
      "\n",
      "To determine which number is larger between \\( 9.9 \\) and \\( 9.11 \\), let's compare them step by step.\n",
      "\n",
      "### Step 1: Compare the Whole Numbers\n",
      "Both numbers have the same whole number part:\n",
      "\\[\n",
      "9 \\quad (\\text{for } 9.9) \\quad \\text{and} \\quad 9 \\quad (\\text{for } 9.11)\n",
      "\\]\n",
      "Since they are equal, we need to compare the decimal parts.\n",
      "\n",
      "### Step 2: Compare the Decimal Parts\n",
      "- For \\( 9.9 \\), the decimal part is \\( 0.9 \\).\n",
      "- For \\( 9.11 \\), the decimal part is \\( 0.11 \\).\n",
      "\n",
      "Comparing these:\n",
      "\\[\n",
      "0.9 > 0.11\n",
      "\\]\n",
      "\n",
      "### Conclusion\n",
      "Since \\( 0.9 \\) is greater than \\( 0.11 \\), the number \\( 9.9 \\) is larger than \\( 9.11 \\).\n",
      "\n",
      "\\[\n",
      "\\boxed{9.9}\n",
      "\\]"
     ]
    },
    {
     "data": {
      "text/markdown": [
       "<think>\n",
       "To determine which number is larger between 9.9 and 9.11, I'll start by comparing their whole number parts.\n",
       "\n",
       "Both numbers have the same whole number part, which is 9.\n",
       "\n",
       "Next, I'll compare the decimal parts of each number. For 9.9, the decimal part is 0.9, while for 9.11, it's 0.11.\n",
       "\n",
       "Since 0.9 is greater than 0.11, this indicates that 9.9 has a larger decimal portion compared to 9.11.\n",
       "\n",
       "Therefore, combining these observations, 9.9 is the larger number.\n",
       "</think>\n",
       "\n",
       "To determine which number is larger between \\( 9.9 \\) and \\( 9.11 \\), let's compare them step by step.\n",
       "\n",
       "### Step 1: Compare the Whole Numbers\n",
       "Both numbers have the same whole number part:\n",
       "\\[\n",
       "9 \\quad (\\text{for } 9.9) \\quad \\text{and} \\quad 9 \\quad (\\text{for } 9.11)\n",
       "\\]\n",
       "Since they are equal, we need to compare the decimal parts.\n",
       "\n",
       "### Step 2: Compare the Decimal Parts\n",
       "- For \\( 9.9 \\), the decimal part is \\( 0.9 \\).\n",
       "- For \\( 9.11 \\), the decimal part is \\( 0.11 \\).\n",
       "\n",
       "Comparing these:\n",
       "\\[\n",
       "0.9 > 0.11\n",
       "\\]\n",
       "\n",
       "### Conclusion\n",
       "Since \\( 0.9 \\) is greater than \\( 0.11 \\), the number \\( 9.9 \\) is larger than \\( 9.11 \\).\n",
       "\n",
       "\\[\n",
       "\\boxed{9.9}\n",
       "\\]"
      ],
      "text/plain": [
       "<IPython.core.display.Markdown object>"
      ]
     },
     "metadata": {},
     "output_type": "display_data"
    }
   ],
   "source": [
    "from IPython.display import display, Markdown\n",
    "from langchain_ollama import ChatOllama\n",
    "\n",
    "deepseek = ChatOllama(model=\"deepseek-r1:1.5b\", temperature=0.5)\n",
    "\n",
    "answer = []\n",
    "for chunk in deepseek.stream(\"which is bigger between 9.9 and 9.11?\"):\n",
    "    answer.append(chunk.content)\n",
    "    print(chunk.content, end=\"\", flush=True)\n",
    "\n",
    "answer_md=''.join([i for i in answer])\n",
    "display(Markdown(answer_md))    "
   ]
  },
  {
   "cell_type": "code",
   "execution_count": 6,
   "id": "6ddf2941",
   "metadata": {},
   "outputs": [
    {
     "name": "stdout",
     "output_type": "stream",
     "text": [
      "9.9와 9.11 중에 더 큰 수는 9.9입니다."
     ]
    }
   ],
   "source": [
    "\n",
    "#model = ChatOllama(model=\"exaone3.5:2.4b\", temperature=0.5)\n",
    "model = ChatOllama(model=\"qwen2.5:1.5b\", temperature=0.5)\n",
    "\n",
    "answer = []\n",
    "for chunk in model.stream(\"9.9와 9.11 중 무엇이 더 큰가요?\"):\n",
    "    answer.append(chunk.content)\n",
    "    print(chunk.content, end=\"\", flush=True)\n"
   ]
  },
  {
   "cell_type": "code",
   "execution_count": 7,
   "id": "640f2d2e",
   "metadata": {},
   "outputs": [
    {
     "data": {
      "text/markdown": [
       "9.9와 9.11 중에 더 큰 수는 9.9입니다."
      ],
      "text/plain": [
       "<IPython.core.display.Markdown object>"
      ]
     },
     "metadata": {},
     "output_type": "display_data"
    }
   ],
   "source": [
    "\n",
    "answer_md=''.join([i for i in answer])\n",
    "display(Markdown(answer_md))\n"
   ]
  },
  {
   "cell_type": "markdown",
   "id": "479de104",
   "metadata": {},
   "source": [
    "### LangGraph를 사용해 DeepSeek 모델(추론)과 Qwen 모델(한글응답) 연동"
   ]
  },
  {
   "cell_type": "code",
   "execution_count": 9,
   "id": "7b9f6764",
   "metadata": {},
   "outputs": [
    {
     "name": "stdout",
     "output_type": "stream",
     "text": [
      "model='deepseek-r1:1.5b' temperature=0.0 stop=['</think>']\n",
      "model='qwen2.5:1.5b' temperature=0.5\n",
      "input_variables=['question', 'thinking'] input_types={} partial_variables={} messages=[SystemMessagePromptTemplate(prompt=PromptTemplate(input_variables=[], input_types={}, partial_variables={}, template='\\n        당신은 사용자의 질문에 대해 명확하고 포괄적인 답변을 제공하는 AI 어시스턴트입니다.\\n\\n        당신의 작업은 다음과 같습니다:\\n        - 질문과 제공된 추론을 신중하게 분석하세요.\\n        - 추론에서 얻은 통찰력을 포함하여 잘 구조화된 답변을 생성하세요.\\n        - 답변이 사용자의 질문에 직접적으로 대응하도록 하세요.\\n        - 정보를 명확하고 자연스럽게 전달하되, 추론 과정을 명시적으로 언급하지 마세요.\\n\\n        지침:\\n        - 답변을 대화 형식으로 작성하고, 흥미롭게 전달하세요.\\n        - 중요한 포인트를 모두 다루면서도 명확하고 간결하게 작성하세요.\\n        - 제공된 추론을 사용한다는 것을 언급하지 말고, 그 통찰력을 자연스럽게 포함시키세요.\\n        - 도움이 되고 전문적인 톤을 유지하세요.\\n\\n        목표: 사용자의 질문에 직접적으로 대응하면서 추론 과정에서 얻은 통찰력을 자연스럽게 포함한 정보 제공입니다.\\n        '), additional_kwargs={}), HumanMessagePromptTemplate(prompt=PromptTemplate(input_variables=['question', 'thinking'], input_types={}, partial_variables={}, template='\\n        질문: {question}\\n        추론: {thinking}\\n        '), additional_kwargs={})]\n",
      "9.9 > 9.11\n",
      "\n",
      "이 답변은 사용자의 질문에 직접적으로 대응하여 추론 과정에서 얻은 통찰력을 자연스럽게 포함시켰습니다. 우선 두 숫자(9.9와 9.11)를 비교하기 위해 소수점 아래의 각 자리 숫자를 살펴보았습니다. 이는 9.9과 9.11이 같은 정수부분을 가진다는 사실에 기반합니다. 그리고 소수점 아래로 각 자리 숫자를 맞춰서 9.90으로 표시한 후, 9.9의 페리트(단위)가 9와 9.11의 페리트(1)보다 크다는 점을 확인했습니다.\n",
      "\n",
      "따라서, 이는 정확히 소수점 아래의 각 자리 숫자를 비교하는 방법을 설명하고, 이를 통해 9.9 > 9.11이라는 결과를 도출하였습니다.\n",
      "{'question': '9.9와 9.11 중 무엇이 더 큰가요?', 'thinking': \"<think>\\nFirst, I need to compare the two numbers: 9.9 and 9.11.\\n\\nBoth numbers have the same whole number part, which is 9.\\n\\nTo make a fair comparison, I'll align their decimal places by writing 9.9 as 9.90.\\n\\nNow, comparing each digit from left to right:\\n\\n- The units place for both numbers is 9.\\n- In the tenths place, 9 has a 9 and 9.11 has a 1.\\n  \\nSince 9 is greater than 1 in the tenths place, 9.90 is larger than 9.11.\\n\\nTherefore, 9.9 is greater than 9.11.\\n\", 'answer': '9.9 > 9.11\\n\\n이 답변은 사용자의 질문에 직접적으로 대응하여 추론 과정에서 얻은 통찰력을 자연스럽게 포함시켰습니다. 우선 두 숫자(9.9와 9.11)를 비교하기 위해 소수점 아래의 각 자리 숫자를 살펴보았습니다. 이는 9.9과 9.11이 같은 정수부분을 가진다는 사실에 기반합니다. 그리고 소수점 아래로 각 자리 숫자를 맞춰서 9.90으로 표시한 후, 9.9의 페리트(단위)가 9와 9.11의 페리트(1)보다 크다는 점을 확인했습니다.\\n\\n따라서, 이는 정확히 소수점 아래의 각 자리 숫자를 비교하는 방법을 설명하고, 이를 통해 9.9 > 9.11이라는 결과를 도출하였습니다.'}\n",
      "==> 생성된 답변: \n",
      "\n",
      "9.9 > 9.11\n",
      "\n",
      "이 답변은 사용자의 질문에 직접적으로 대응하여 추론 과정에서 얻은 통찰력을 자연스럽게 포함시켰습니다. 우선 두 숫자(9.9와 9.11)를 비교하기 위해 소수점 아래의 각 자리 숫자를 살펴보았습니다. 이는 9.9과 9.11이 같은 정수부분을 가진다는 사실에 기반합니다. 그리고 소수점 아래로 각 자리 숫자를 맞춰서 9.90으로 표시한 후, 9.9의 페리트(단위)가 9와 9.11의 페리트(1)보다 크다는 점을 확인했습니다.\n",
      "\n",
      "따라서, 이는 정확히 소수점 아래의 각 자리 숫자를 비교하는 방법을 설명하고, 이를 통해 9.9 > 9.11이라는 결과를 도출하였습니다.\n"
     ]
    }
   ],
   "source": [
    "from langchain_ollama import ChatOllama\n",
    "from langgraph.graph import START, StateGraph\n",
    "from typing_extensions import TypedDict\n",
    "from langchain_core.prompts import ChatPromptTemplate\n",
    "\n",
    "#추론 모델\n",
    "reasoning_model = ChatOllama(model=\"deepseek-r1:1.5b\", temperature=0, stop=[\"</think>\"])\n",
    "print(reasoning_model)\n",
    "\n",
    "#응답 모델(한글 가능)\n",
    "generation_model = ChatOllama(model=\"qwen2.5:1.5b\", temperature=0.5)\n",
    "print(generation_model)\n",
    "\n",
    "\n",
    "answer_prompt = ChatPromptTemplate([\n",
    "    (\n",
    "        \"system\",\n",
    "        \"\"\"\n",
    "        당신은 사용자의 질문에 대해 명확하고 포괄적인 답변을 제공하는 AI 어시스턴트입니다.\n",
    "\n",
    "        당신의 작업은 다음과 같습니다:\n",
    "        - 질문과 제공된 추론을 신중하게 분석하세요.\n",
    "        - 추론에서 얻은 통찰력을 포함하여 잘 구조화된 답변을 생성하세요.\n",
    "        - 답변이 사용자의 질문에 직접적으로 대응하도록 하세요.\n",
    "        - 정보를 명확하고 자연스럽게 전달하되, 추론 과정을 명시적으로 언급하지 마세요.\n",
    "\n",
    "        지침:\n",
    "        - 답변을 대화 형식으로 작성하고, 흥미롭게 전달하세요.\n",
    "        - 중요한 포인트를 모두 다루면서도 명확하고 간결하게 작성하세요.\n",
    "        - 제공된 추론을 사용한다는 것을 언급하지 말고, 그 통찰력을 자연스럽게 포함시키세요.\n",
    "        - 도움이 되고 전문적인 톤을 유지하세요.\n",
    "\n",
    "        목표: 사용자의 질문에 직접적으로 대응하면서 추론 과정에서 얻은 통찰력을 자연스럽게 포함한 정보 제공입니다.\n",
    "        \"\"\"\n",
    "    ),\n",
    "    (\n",
    "        \"human\",\n",
    "        \"\"\"\n",
    "        질문: {question}\n",
    "        추론: {thinking}\n",
    "        \"\"\"\n",
    "    )\n",
    "])\n",
    "print(answer_prompt)\n",
    "\n",
    "#LangGraph에서 State 사용자정의 클래스는 노드 간의 정보를 전달하는 틀입니다. \n",
    "#노드 간에 계속 전달하고 싶거나, 그래프 내에서 유지해야 할 정보를 미리 정의힙니다. \n",
    "class State(TypedDict):\n",
    "    question: str\n",
    "    thinking: str\n",
    "    answer: str\n",
    "\n",
    "#DeepSeek를 통해서 추론 부분까지만 생성합니다. \n",
    "def think(state: State):\n",
    "    question = state[\"question\"]\n",
    "    response = reasoning_model.invoke(question)\n",
    "    #print(response.content)\n",
    "    return {\"thinking\": response.content}\n",
    "\n",
    "#Qwen를 통해서 결과 출력 부분을 생성합니다.\n",
    "def generate(state: State):\n",
    "    messages = answer_prompt.invoke({\"question\": state[\"question\"], \"thinking\": state[\"thinking\"]})\n",
    "    response = generation_model.invoke(messages)\n",
    "    print(response.content)\n",
    "    return {\"answer\": response.content}\n",
    "\n",
    "# 그래프 컴파일\n",
    "graph_builder = StateGraph(State).add_sequence([think, generate])\n",
    "graph_builder.add_edge(START, \"think\")\n",
    "graph = graph_builder.compile()\n",
    "\n",
    "# 입력 데이터\n",
    "inputs = {\"question\": \"9.9와 9.11 중 무엇이 더 큰가요?\"}\n",
    "\n",
    "# invoke()를 사용하여 그래프 호출\n",
    "result = graph.invoke(inputs)\n",
    "print(result)\n",
    "\n",
    "# 결과 출력\n",
    "print(\"==> 생성된 답변: \\n\")\n",
    "print(result[\"answer\"])"
   ]
  },
  {
   "cell_type": "code",
   "execution_count": 10,
   "id": "69fe230b",
   "metadata": {},
   "outputs": [
    {
     "data": {
      "image/png": "[encoded data removed]",
      "text/plain": [
       "<IPython.core.display.Image object>"
      ]
     },
     "metadata": {},
     "output_type": "display_data"
    }
   ],
   "source": [
    "from IPython.display import Image, display\n",
    "from langchain_core.runnables.graph import CurveStyle, MermaidDrawMethod, NodeStyles\n",
    "\n",
    "display(\n",
    "    Image(\n",
    "        graph.get_graph().draw_mermaid_png(draw_method=MermaidDrawMethod.API)        \n",
    "    )\n",
    ")"
   ]
  },
  {
   "cell_type": "code",
   "execution_count": 11,
   "id": "d72d02d9",
   "metadata": {},
   "outputs": [
    {
     "name": "stdout",
     "output_type": "stream",
     "text": [
      "<think>\n",
      "First, I need to compare the two numbers: 9.9 and 9.11.\n",
      "\n",
      "Both numbers have the same whole number part, which is 9.\n",
      "\n",
      "To make a fair comparison, I'll align their decimal places by writing 9.9 as 9.90.\n",
      "\n",
      "Now, comparing each digit from left to right:\n",
      "\n",
      "- The units place for both numbers is 9.\n",
      "- In the tenths place, 9 has a 9 and 9.11 has a 1.\n",
      "  \n",
      "Since 9 is greater than 1 in the tenths place, 9.90 is larger than 9.11.\n",
      "\n",
      "Therefore, 9.9 is greater than 9.11.\n",
      "9.9과 9.11 중에 더 큰 수는 9.9입니다. 이들은 모두 9를 가진 숫자이기 때문에 비교하기 전에 심각한 차이가 없었습니다. 하지만 9.11의 0을 추가해 9.9으로 표기했을 때, 각 자리에서 첫 번째로 다를 수 있는 숫자는 9와 1입니다. 이 경우, 9.11의 1은 9.9의 9보다 작으므로 9.11이 더 작아졌습니다. 따라서, 9.90으로 표기한 9.9가 9.11보다 크다는 것을 확인할 수 있습니다.9.9과 9.11 중에 더 큰 수는 9.9입니다. 이들은 모두 9를 가진 숫자이기 때문에 비교하기 전에 심각한 차이가 없었습니다. 하지만 9.11의 0을 추가해 9.9으로 표기했을 때, 각 자리에서 첫 번째로 다를 수 있는 숫자는 9와 1입니다. 이 경우, 9.11의 1은 9.9의 9보다 작으므로 9.11이 더 작아졌습니다. 따라서, 9.90으로 표기한 9.9가 9.11보다 크다는 것을 확인할 수 있습니다.\n"
     ]
    }
   ],
   "source": [
    "inputs = {\"question\": \"9.9와 9.11 중 무엇이 더 큰가요?\"}\n",
    "\n",
    "async for event in graph.astream_events(inputs, version=\"v2\"):\n",
    "    kind = event[\"event\"]\n",
    "    if kind == \"on_chat_model_stream\":\n",
    "        print(event['data']['chunk'].content, end=\"\", flush=True)"
   ]
  },
  {
   "cell_type": "markdown",
   "id": "2850e341",
   "metadata": {},
   "source": [
    "### Gradio 사용(위 두 개 모델 연동 후)"
   ]
  },
  {
   "cell_type": "code",
   "execution_count": null,
   "id": "2fc99bb5",
   "metadata": {},
   "outputs": [
    {
     "name": "stderr",
     "output_type": "stream",
     "text": [
      "c:\\Users\\혜영\\AppData\\Local\\pypoetry\\Cache\\virtualenvs\\langchain-basic-kGdHTiMZ-py3.12\\Lib\\site-packages\\gradio\\chat_interface.py:339: UserWarning: The 'tuples' format for chatbot messages is deprecated and will be removed in a future version of Gradio. Please set type='messages' instead, which uses openai-style 'role' and 'content' keys.\n",
      "  self.chatbot = Chatbot(\n"
     ]
    },
    {
     "name": "stdout",
     "output_type": "stream",
     "text": [
      "* Running on local URL:  http://127.0.0.1:7861\n",
      "* To create a public link, set `share=True` in `launch()`.\n"
     ]
    },
    {
     "data": {
      "text/html": [
       "<div><iframe src=\"http://127.0.0.1:7861/\" width=\"100%\" height=\"500\" allow=\"autoplay; camera; microphone; clipboard-read; clipboard-write;\" frameborder=\"0\" allowfullscreen></iframe></div>"
      ],
      "text/plain": [
       "<IPython.core.display.HTML object>"
      ]
     },
     "metadata": {},
     "output_type": "display_data"
    },
    {
     "name": "stdout",
     "output_type": "stream",
     "text": [
      "[DEBUG] 최종 응답 타입: <class 'str'>\n",
      "[DEBUG] 최종 응답 길이: 355\n",
      "[DEBUG] 최종 응답 내용: \"먼저 두 숫자를 비교해야 합니다: 9.9과 9.11입니다.\n",
      "\n",
      "이 두 숫자 모두 정수부분은 9입니다.\n",
      "\n",
      "정확한 비교를 위해서, 9.9에 추가적인 소数 자리(소수점)를 더해보겠습니다: 9.90을 만들 것입니다.\n",
      "\n",
      "이제 두 숫자는 9.90과 9.11가 됩니다.\n",
      "\n",
      "마지막으로 십의 자리에서 비교하기 위해, 9를 각 수에 추가해서 9.90와 9.11로 나타내겠습니다.\n",
      "\n",
      "이제 두 숫자는 모두 '9'이라는 소수점 밑에 위치하고 있습니다. \n",
      "\n",
      "다만, 소수점 두 번째 자리에서는 9가 1보다 크므로, 이 경우 9.90은 9.11보다 크게합니다.\"\n",
      "\n",
      "이 답변에서 제공된 추론 과정을 사용하여 통찰력을 자연스럽게 포함시키면서도 명확하게 전달하였습니다.\n",
      "[DEBUG] 입력 질문: 파이썬이란 무엇인가요\n",
      "[DEBUG] 질문 타입: <class 'str'>\n",
      "[DEBUG] 추론 결과 타입: <class 'str'>\n",
      "[DEBUG] 추론 결과 길이: 2860\n",
      "[DEBUG] 추론 결과 미리보기: <think>\n",
      "Okay, so I'm trying to understand what PyPy is. From the name alone, it sounds like a Python-like language or maybe even an alternative version of Python. But I know that Python is already a p...\n",
      "[DEBUG] generate 함수 - 질문: 파이썬이란 무엇인가요\n",
      "[DEBUG] generate 함수 - 추론 길이: 2860\n",
      "[DEBUG] generate 함수 - 추론 미리보기: <think>\n",
      "Okay, so I'm trying to understand what PyPy is. From the name alone, it sounds like a Python-like language or maybe even an alternative version of Python. But I know that Python is already a p...\n",
      "[DEBUG] 프롬프트 메시지 생성 완료\n",
      "[DEBUG] 최종 응답 타입: <class 'str'>\n",
      "[DEBUG] 최종 응답 길이: 566\n",
      "[DEBUG] 최종 응답 내용: <think>\n",
      "</think>\n",
      "\n",
      "파이썬은 명확한 문법과 간결한 구문을 갖춘 프로그래밍 언어로, 다양한 분야에서 쓰여집니다. 파이썬은 인터프리터 언어로, 코드를 실행하기 위해 한 줄씩 해석합니다. 하지만 파이썬의 실행 속도는 특정 작업에 따라 느리다는 점이 있습니다. 이는 파이썬의 인터프리터 기반으로 인해 발생하는 문제입니다.\n",
      "\n",
      "파이썬의 대안으로, **파이프(PyPy)**는 더 빠른 실행 속도를 보장하기 위해 설계되었습니다. 파이프는 파이썬 코드를 더 빠르게 실행하는 방식으로, 특정 작업에만 최적화되어 있습니다. 파이프는 일반적인 파이썬 코드와 유사한 문법을 사용하지만, 더 빠른 실행 속도와 효율적인 메모리 관리를 제공합니다. 이로 인해 파이썬을 더 빠르게 실행시킬 수 있습니다.\n",
      "\n",
      "파이프는 파이썬의 성능을 향상시키는 데 주로 사용되며, 인터프리터 기반의 파이썬과 달리 더 빠른 실행 속도를 제공합니다. 이는 대량의 데이터 처리나 실시간 애플리케이션에서 특히 유리합니다. 또한, 파이프는 파이썬의 기능을 유지하면서도 성능을 향상시키는 방식으로, 사용자들이 원활하게 파이썬을 활용할 수 있도록 설계되었습니다.\n"
     ]
    }
   ],
   "source": [
    "import gradio as gr\n",
    "import os\n",
    "import sys\n",
    "from langchain_ollama import ChatOllama\n",
    "from langgraph.graph import START, StateGraph\n",
    "from typing_extensions import List, TypedDict\n",
    "from langchain_core.prompts import ChatPromptTemplate\n",
    "\n",
    "# UTF-8 인코딩 강제 설정 (Jupyter 노트북 호환)\n",
    "os.environ['PYTHONIOENCODING'] = 'utf-8'\n",
    "os.environ['LANG'] = 'ko_KR.UTF-8'\n",
    "os.environ['LC_ALL'] = 'ko_KR.UTF-8'\n",
    "\n",
    "# Jupyter 환경에서는 reconfigure 대신 환경변수로 처리\n",
    "try:\n",
    "    if hasattr(sys.stdout, 'reconfigure') and sys.stdout.encoding != 'utf-8':\n",
    "        sys.stdout.reconfigure(encoding='utf-8')\n",
    "except (AttributeError, OSError):\n",
    "    # Jupyter 노트북이나 다른 환경에서는 패스\n",
    "    pass\n",
    "\n",
    "# 모델 설정: 두 개의 서로 다른 모델을 사용하여 추론과 답변 생성을 수행\n",
    "# - reasoning_model: 추론을 담당하는 모델 (온도 낮음, 정확한 분석용)\n",
    "# - generation_model: 답변 생성을 담당하는 모델 (온도 높음, 창의적 응답용)\n",
    "reasoning_model = ChatOllama(\n",
    "    model=\"deepseek-r1:1.5b\", \n",
    "    temperature=0, \n",
    "    stop=[\"</think>\"]\n",
    ")\n",
    "\n",
    "generation_model = ChatOllama(\n",
    "    model=\"qwen3:1.7b\", \n",
    "    temperature=0.7\n",
    ")\n",
    "\n",
    "# 상태(State) 정의: 그래프에서 상태를 유지하기 위한 데이터 구조\n",
    "class State(TypedDict):\n",
    "    question: str   # 사용자의 질문\n",
    "    thinking: str   # 추론 결과\n",
    "    answer: str     # 최종 답변\n",
    "\n",
    "# 개선된 프롬프트 템플릿\n",
    "answer_prompt = ChatPromptTemplate([\n",
    "    (\n",
    "        \"system\",\n",
    "        \"\"\"당신은 한국어로 응답하는 AI 어시스턴트입니다. \n",
    "        반드시 한국어로만 답변하세요.\n",
    "        \n",
    "        당신의 작업:\n",
    "        - 질문과 제공된 추론을 신중하게 분석하세요.\n",
    "        - 추론에서 얻은 통찰력을 포함하여 잘 구조화된 한국어 답변을 생성하세요.\n",
    "        - 답변이 사용자의 질문에 직접적으로 대응하도록 하세요.\n",
    "        - 정보를 명확하고 자연스럽게 전달하되, 추론 과정을 명시적으로 언급하지 마세요.\n",
    "        \n",
    "        지침:\n",
    "        - 답변을 대화 형식으로 작성하고, 흥미롭게 전달하세요.\n",
    "        - 중요한 포인트를 모두 다루면서도 명확하고 간결하게 작성하세요.\n",
    "        - 제공된 추론을 사용한다는 것을 언급하지 말고, 그 통찰력을 자연스럽게 포함시키세요.\n",
    "        - 도움이 되고 전문적인 톤을 유지하세요.\n",
    "        \n",
    "        중요: 반드시 한국어로만 응답하세요.\"\"\"\n",
    "    ),\n",
    "    (\n",
    "        \"human\",\n",
    "        \"\"\"질문: {question}\n",
    "        \n",
    "        추론 과정: {thinking}\n",
    "        \n",
    "        위 내용을 바탕으로 한국어로 답변해주세요:\"\"\"\n",
    "    )\n",
    "])\n",
    "\n",
    "\n",
    "def ensure_utf8_string(text):\n",
    "    \"\"\"문자열이 UTF-8로 제대로 인코딩되었는지 확인하고 변환\"\"\"\n",
    "    if text is None:\n",
    "        return \"\"\n",
    "    if isinstance(text, bytes):\n",
    "        try:\n",
    "            return text.decode('utf-8')\n",
    "        except UnicodeDecodeError:\n",
    "            return text.decode('utf-8', errors='ignore')\n",
    "    \n",
    "    # 문자열이지만 인코딩 문제가 있을 수 있는 경우 처리\n",
    "    if isinstance(text, str):\n",
    "        try:\n",
    "            # 문자열을 UTF-8로 인코딩했다가 다시 디코딩하여 정리\n",
    "            return text.encode('utf-8').decode('utf-8')\n",
    "        except (UnicodeEncodeError, UnicodeDecodeError):\n",
    "            return text\n",
    "    \n",
    "    return str(text)\n",
    "\n",
    "# DeepSeek를 통해서 추론 부분까지만 생성\n",
    "def think(state: State):\n",
    "    question = state[\"question\"]\n",
    "    print(f\"[DEBUG] 입력 질문: {question}\")\n",
    "    print(f\"[DEBUG] 질문 타입: {type(question)}\")\n",
    "    \n",
    "    response = reasoning_model.invoke(question)\n",
    "    thinking_content = ensure_utf8_string(response.content)\n",
    "    \n",
    "    print(f\"[DEBUG] 추론 결과 타입: {type(response.content)}\")\n",
    "    print(f\"[DEBUG] 추론 결과 길이: {len(thinking_content)}\")\n",
    "    print(f\"[DEBUG] 추론 결과 미리보기: {thinking_content[:200]}...\")\n",
    "    \n",
    "    return {\"thinking\": thinking_content}\n",
    "\n",
    "# qwen2.5를 통해서 결과 출력 부분을 생성\n",
    "def generate(state: State):\n",
    "    question = ensure_utf8_string(state[\"question\"])\n",
    "    thinking = ensure_utf8_string(state[\"thinking\"])\n",
    "    \n",
    "    print(f\"[DEBUG] generate 함수 - 질문: {question}\")\n",
    "    print(f\"[DEBUG] generate 함수 - 추론 길이: {len(thinking)}\")\n",
    "    print(f\"[DEBUG] generate 함수 - 추론 미리보기: {thinking[:200]}...\")\n",
    "    \n",
    "    messages = answer_prompt.invoke({\n",
    "        \"question\": question, \n",
    "        \"thinking\": thinking\n",
    "    })\n",
    "    \n",
    "    print(f\"[DEBUG] 프롬프트 메시지 생성 완료\")\n",
    "    \n",
    "    response = generation_model.invoke(messages)\n",
    "    answer_content = ensure_utf8_string(response.content)\n",
    "    \n",
    "    print(f\"[DEBUG] 최종 응답 타입: {type(response.content)}\")\n",
    "    print(f\"[DEBUG] 최종 응답 길이: {len(answer_content)}\")\n",
    "    print(f\"[DEBUG] 최종 응답 내용: {answer_content}\")\n",
    "    \n",
    "    return {\"answer\": answer_content}\n",
    "\n",
    "# 그래프 생성 함수: 상태(State) 간의 흐름을 정의\n",
    "def create_graph():\n",
    "    graph_builder = StateGraph(State).add_sequence([think, generate])\n",
    "    graph_builder.add_edge(START, \"think\")\n",
    "    return graph_builder.compile()\n",
    "\n",
    "# Gradio 인터페이스 생성 및 실행\n",
    "def chatbot_interface(message, history):\n",
    "    graph = create_graph()\n",
    "    inputs = {\"question\": message}\n",
    "    result = graph.invoke(inputs)\n",
    "    return result[\"answer\"]\n",
    "\n",
    "iface = gr.ChatInterface(fn=chatbot_interface, title=\"AI 챗봇\", description=\"질문을 입력하면 AI가 답변을 제공합니다.\")\n",
    "\n",
    "# # Gradio 인터페이스 설정\n",
    "# def launch_gradio():\n",
    "#     iface = gr.Interface(fn=chatbot_interface, inputs=\"text\", outputs=\"text\", title=\"AI 챗봇\", description=\"질문을 입력하면 AI가 답변을 제공합니다.\")\n",
    "#     iface.launch()\n",
    "\n",
    "if __name__ == \"__main__\":\n",
    "    iface.launch()\n",
    "    # launch_gradio()"
   ]
  }
 ],
 "metadata": {
  "kernelspec": {
   "display_name": "langchain-basic-kGdHTiMZ-py3.12",
   "language": "python",
   "name": "python3"
  },
  "language_info": {
   "codemirror_mode": {
    "name": "ipython",
    "version": 3
   },
   "file_extension": ".py",
   "mimetype": "text/x-python",
   "name": "python",
   "nbconvert_exporter": "python",
   "pygments_lexer": "ipython3",
   "version": "3.12.7"
  }
 },
 "nbformat": 4,
 "nbformat_minor": 5
}
