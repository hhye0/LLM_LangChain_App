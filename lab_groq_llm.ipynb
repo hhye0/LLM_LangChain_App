{
 "cells": [
  {
   "cell_type": "markdown",
   "id": "2b901b61",
   "metadata": {},
   "source": [
    "### <b>문제 1-1 : 기본 체인 만들기 - AI 요리사</b>\n",
    "<b>문제 설명</b><br>\n",
    ": 사용자가 재료를 입력하면 그 재료로 만들 수 있는 요리를 추천해주는 간단한 AI 요리사를 만들어보세요.\n",
    "\n",
    "<b>요구사항</b>\n",
    "* PromptTemplate을 사용하여 프롬프트 작성\n",
    "* 사용자가 입력한 재료를 받아서 요리 추천\n",
    "* ChatOpenAI 모델 사용\n",
    "* StrOutputParser로 결과를 문자열로 출력\n",
    "* LCEL(|) 문법을 사용하여 체인 연결\n",
    "\n",
    "<b>구현 조건</b>\n",
    "* 입력: 재료명 (예: \"토마토, 양파, 치즈\")\n",
    "* 출력: 추천 요리와 간단한 레시피\n"
   ]
  },
  {
   "cell_type": "code",
   "execution_count": 12,
   "id": "ac74320f",
   "metadata": {},
   "outputs": [],
   "source": [
    "import os\n",
    "from dotenv import load_dotenv\n",
    "from langchain_core.prompts import ChatPromptTemplate\n",
    "from langchain_openai import ChatOpenAI \n",
    "\n",
    "load_dotenv()\n",
    "OPENAI_API_KEY = os.getenv(\"OPENAI_API_KEY\")"
   ]
  },
  {
   "cell_type": "code",
   "execution_count": 22,
   "id": "1efc680d",
   "metadata": {},
   "outputs": [
    {
     "name": "stdout",
     "output_type": "stream",
     "text": [
      "입력:  토마토, 양파, 치즈\n",
      "출력: \n",
      " 토마토, 양파, 치즈를 사용한 추천 요리로는 피자, 파스타 등이 있습니다. \n",
      "\n",
      "**피자 레시피**\n",
      "\n",
      "1.  토마토를 깨끗이 씻고, 양파와 치즈를 준비해 주세요. \n",
      "2.  양파를 얇게 썰고, 토마토를 얇게 썰어주세요. \n",
      "3.  피자 도우에 피자 소스를 바르고, 양파와 토마토를 올려주세요. \n",
      "4.  치즈를 올려주고, 오븐에 구워주세요. \n",
      "\n",
      "**파스타 레시피**\n",
      "\n",
      "1.  파스타를 삶아주세요. \n",
      "2.  양파를 얇게 썰고, 토마토를 깨끗이 씻고 썰어주세요. \n",
      "3.  팬에 올리브 오일을 두르고, 양파와 토마토를 볶아주세요. \n",
      "4.  파스타를 넣고, 치즈를 뿌려주세요. \n",
      "5.  소금과 후추로 간을 하고, 파마산 치즈를 뿌려주면 완성입니다. \n",
      "\n",
      "간단한 레시피로 맛있는 요리를 즐겨보세요!\n"
     ]
    }
   ],
   "source": [
    "from langchain_core.prompts import PromptTemplate\n",
    "from langchain_openai import ChatOpenAI\n",
    "from langchain_core.output_parsers import StrOutputParser\n",
    "\n",
    "template_text = \"{ingredients} 재료들을 사용해서 추천 요리와 간단한 레시피 알려줘줘\"\n",
    "\n",
    "# PromptTemplate 인스턴스를 생성\n",
    "prompt_template = PromptTemplate.from_template(template_text)\n",
    "\n",
    "# OpenAI 모델 사용\n",
    "llm = ChatOpenAI(model=\"gpt-3.5-turbo-0125\")\n",
    "# Groq API를 사용하는 ChatOpenAI 인스턴스 생성\n",
    "llm = ChatOpenAI(\n",
    "    api_key=OPENAI_API_KEY,\n",
    "    base_url=\"https://api.groq.com/openai/v1\",  # Groq API 엔드포인트\n",
    "    model=\"meta-llama/llama-4-scout-17b-16e-instruct\",\n",
    "    temperature=0.7\n",
    ")\n",
    "chain = prompt_template | llm | StrOutputParser()\n",
    "response = chain.invoke({\"ingredients\": \"토마토, 양파, 치즈\"})\n",
    "print(\"입력: \", \"토마토, 양파, 치즈\")\n",
    "print(\"출력: \\n\", response)"
   ]
  },
  {
   "cell_type": "markdown",
   "id": "a0130c1d",
   "metadata": {},
   "source": [
    "### <b>문제 1-2 : 2단계 체인 만들기 - 영화 추천 시스템 </b>\n",
    "<b>문제 설명</b><br>\n",
    ": 사용자가 좋아하는 장르를 입력하면, 영화를 추천하고 그 영화의 정보(감독, 줄거리, 등장인물)들을  알려주는 2단계 체인을 구현해보세요.\n",
    "\n",
    "<b>요구사항</b>\n",
    "* 1단계 체인: 장르를 입력받아 영화 1편 추천\n",
    "* 2단계 체인: 추천받은 영화의 3줄 줄거리 요약 제공\n",
    "* ChatPromptTemplate 사용 : “system”  과 “human” 메시지를 지정합니다.\n",
    "* 두 체인을 LCEL로 연결\n",
    "* 각 단계의 결과를 모두 출력하여 과정 확인\n",
    "\n",
    "<b>구현 조건</b>\n",
    "* 입력: 영화 장르 (예: \"액션\", \"로맨스\", \"공포\")\n",
    "* 1단계 출력: 추천 영화 제목과 간단한 설명\n",
    "* 2단계 출력: 영화 줄거리 3줄 요약"
   ]
  },
  {
   "cell_type": "code",
   "execution_count": 30,
   "id": "492d3a5c",
   "metadata": {},
   "outputs": [
    {
     "name": "stdout",
     "output_type": "stream",
     "text": [
      "client=<openai.resources.chat.completions.completions.Completions object at 0x0000019989A72960> async_client=<openai.resources.chat.completions.completions.AsyncCompletions object at 0x0000019989A728A0> root_client=<openai.OpenAI object at 0x0000019989A729F0> root_async_client=<openai.AsyncOpenAI object at 0x0000019989A72E70> model_name='meta-llama/llama-4-scout-17b-16e-instruct' temperature=0.7 model_kwargs={} openai_api_key=SecretStr('**********') openai_api_base='https://api.groq.com/openai/v1'\n"
     ]
    }
   ],
   "source": [
    "from langchain_core.prompts import ChatPromptTemplate\n",
    "from langchain_openai import ChatOpenAI\n",
    "from langchain_core.output_parsers import StrOutputParser\n",
    "\n",
    "# Step 1: 사용자가 입력한 장르에 따라 영화 추천\n",
    "prompt1 = ChatPromptTemplate.from_messages([ (\"system\", \"당신은 영화 평론가입니다.\") , \n",
    "                                            (\"human\", \"{genre} 장르에서 추천할 만한 영화를 한 편 알려주세요.\")])\n",
    "\n",
    "# Step 2: 추천된 영화의 줄거리를 요약\n",
    "prompt2 = ChatPromptTemplate.from_template(\"{movie} 추전한 영화의 제목을 먼저 알려주시고, 영화의 줄거리를 3문장으로 줄바꿈 해서 요약해 주세요.\")\n",
    "\n",
    "# OpenAI 모델 사용\n",
    "llm = ChatOpenAI(model=\"gpt-3.5-turbo-0125\")\n",
    "# Groq API를 사용하는 ChatOpenAI 인스턴스 생성\n",
    "llm = ChatOpenAI(\n",
    "    # api_key=OPENAI_API_KEY,\n",
    "    base_url=\"https://api.groq.com/openai/v1\",  # Groq API 엔드포인트\n",
    "    model=\"meta-llama/llama-4-scout-17b-16e-instruct\",\n",
    "    temperature=0.7\n",
    ")\n",
    "print(llm)\n",
    "\n",
    "# 체인 1: 영화 추천 (입력: 장르 → 출력: 영화 제목)\n",
    "chain1 = prompt1 | llm | StrOutputParser()"
   ]
  },
  {
   "cell_type": "code",
   "execution_count": 31,
   "id": "942fa836",
   "metadata": {},
   "outputs": [
    {
     "name": "stdout",
     "output_type": "stream",
     "text": [
      "입력: '로맨스'\n",
      "1.  **영화 제목**: 노트북 (The Notebook)\n",
      "\n",
      "2.  **영화 줄거리 요약**:\n",
      "\n",
      "    *   노아(라이언 고슬링)와 앨리(레이철 매캐덤스)는 여름 휴가철에 우연히 만나 사랑에 빠집니다. \n",
      "    *   하지만 사회적 지위와 부모의 반대 등으로 인해 노아와 앨리는 헤어지게 됩니다. \n",
      "    *   노아는 앨리를 잊지 못하고 1년 동안 매일 편지를 써서 보냈지만, 앨리는 그 편지를 받지 못했고 노아를 잊게 됩니다. 하지만 노아는 포기하지 않고 앨리를 찾아가고, 앨리는 노아에 대한 사랑을 다시 깨닫게 됩니다.\n"
     ]
    }
   ],
   "source": [
    "try:\n",
    "    # 체인 2: 줄거리 요약 (입력: 영화 제목 → 출력: 줄거리)\n",
    "    chain2 = (\n",
    "        {\"movie\": chain1}  # chain1의 출력을 movie 변수로 전달\n",
    "        | prompt2\n",
    "        | llm\n",
    "        | StrOutputParser()\n",
    "    )\n",
    "\n",
    "    # 실행: \"SF\" 장르의 영화 추천 및 줄거리 요약\n",
    "    response = chain2.invoke({\"genre\": \"로맨스\"})\n",
    "    print(\"입력: '로맨스'\")\n",
    "    print(response)  \n",
    "except Exception as e:\n",
    "    print(f\"오류 발생: {e}\")"
   ]
  },
  {
   "cell_type": "markdown",
   "id": "93dc5437",
   "metadata": {},
   "source": [
    "### <b>문제 1-3 : FewShotPromptTemplate과 시스템 메시지 활용 - 뉴스 키워드 추출기 </b>\n",
    "<b>문제 설명</b><br>\n",
    ": FewShotPromptTemplate을 사용하여 뉴스 기사에서 핵심 키워드 3개를 추출하는 시스템을 구현해보세요. 주어진 예시들을 참고하여 일관된 형식으로 키워드를 추출해야 합니다.\n",
    "\n",
    "<b>요구사항</b>\n",
    "* FewShotPromptTemplate 사용\n",
    "* 최소 3개의 예시(examples) 포함\n",
    "* 뉴스 텍스트에서 핵심 키워드 3개 추출\n",
    "* 일관된 출력 형식 유지\n",
    "* 다양한 분야의 뉴스로 테스트"
   ]
  },
  {
   "cell_type": "code",
   "execution_count": 32,
   "id": "3154cc5c",
   "metadata": {},
   "outputs": [
    {
     "name": "stdout",
     "output_type": "stream",
     "text": [
      "키워드: 추가경정예산, 국회, 복지예산\n"
     ]
    }
   ],
   "source": [
    "from langchain_core.prompts import ChatPromptTemplate, FewShotChatMessagePromptTemplate\n",
    "from langchain_openai import ChatOpenAI\n",
    "\n",
    "# 예제 프롬프트 템플릿\n",
    "example_prompt = ChatPromptTemplate.from_messages(\n",
    "    [\n",
    "        (\"human\", \"{news}\"),\n",
    "        (\"ai\", \"키워드: {keywords}\"),\n",
    "    ]\n",
    ")\n",
    "examples = [\n",
    "    {\n",
    "        \"news\": \"유럽연합(EU) 정상회의에서 러시아 산업 제재 연장안이 가결됐다. 우크라이나 지원을 위한 군사 원조 확대도 논의되었다.\",\n",
    "        \"keywords\": \"EU, 러시아제재, 우크라이나\"\n",
    "    },\n",
    "    {\n",
    "        \"news\": \"한국 정부가 공공부문 비정규직 전환 정책을 발표하자 노동계와 자영업자 단체가 반발하며 집회를 열었다.\",\n",
    "        \"keywords\": \"비정규직, 노동계, 집회\"\n",
    "    },\n",
    "    {\n",
    "        \"news\": \"일본 총리가 역사 교과서 왜곡 문제와 관련해 '한일 관계 개선'을 강조하는 담화를 발표했다.\",\n",
    "        \"keywords\": \"일본, 역사왜곡, 한일관계\"\n",
    "    }\n",
    "]\n",
    "\n",
    "# FewShotChatMessagePromptTemplate 적용\n",
    "few_shot_prompt = FewShotChatMessagePromptTemplate(\n",
    "    example_prompt=example_prompt,\n",
    "    examples=examples,\n",
    ")\n",
    "\n",
    "# 최종 프롬프트 구성\n",
    "final_prompt = ChatPromptTemplate.from_messages(\n",
    "    [\n",
    "        (\"system\", \"당신은 뉴스 키워드 추출 전문가입니다. 뉴스 텍스트에서 핵심 키워드 3개를 추출하세요. 일관된 형식으로 '키워드: 키워드 1, 키워드2, 키워드3' 형태로 출력합니다.\"),\n",
    "        few_shot_prompt,\n",
    "        (\"human\", \"{input}\"),\n",
    "    ]\n",
    ")\n",
    "\n",
    "# 모델 생성 및 체인 구성\n",
    "model = ChatOpenAI(\n",
    "    #api_key=OPENAI_API_KEY,\n",
    "    base_url=\"https://api.groq.com/openai/v1\",  # Groq API 엔드포인트\n",
    "    model=\"meta-llama/llama-4-scout-17b-16e-instruct\",\n",
    "    temperature=0.7\n",
    ")\n",
    "chain = final_prompt | model\n",
    "\n",
    "# 테스트 실행\n",
    "result = chain.invoke({\"input\": \"대한민국 국회가 2024년도 추가경정예산안을 확정했다. 복지 예산 증액과 중소기업 지원책이 핵심 내용이며, 여야 간 첨예한 대립 끝에 처리됐다.\"})\n",
    "print(result.content)"
   ]
  }
 ],
 "metadata": {
  "kernelspec": {
   "display_name": "langchain-basic-kGdHTiMZ-py3.12",
   "language": "python",
   "name": "python3"
  },
  "language_info": {
   "codemirror_mode": {
    "name": "ipython",
    "version": 3
   },
   "file_extension": ".py",
   "mimetype": "text/x-python",
   "name": "python",
   "nbconvert_exporter": "python",
   "pygments_lexer": "ipython3",
   "version": "3.12.7"
  }
 },
 "nbformat": 4,
 "nbformat_minor": 5
}
